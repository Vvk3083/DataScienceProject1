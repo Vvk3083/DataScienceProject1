{
 "cells": [
  {
   "cell_type": "code",
   "execution_count": 1,
   "id": "3685ebc1-2e6d-4853-b7ff-3557a65b7027",
   "metadata": {},
   "outputs": [],
   "source": [
    "import pandas as pd\n",
    "import numpy as np\n",
    "%matplotlib inline"
   ]
  },
  {
   "cell_type": "code",
   "execution_count": 5,
   "id": "34070e30-6a0e-43d5-aeca-4906a92201da",
   "metadata": {},
   "outputs": [],
   "source": [
    "taxi_jan_24 = pd.read_parquet('data\\yellow_tripdata_2024-01.parquet')\n",
    "taxi_data = pd.concat([taxi_jan_24])"
   ]
  },
  {
   "cell_type": "code",
   "execution_count": 6,
   "id": "082d25be-6042-424a-bf84-1830af1ecebb",
   "metadata": {},
   "outputs": [
    {
     "name": "stdout",
     "output_type": "stream",
     "text": [
      "(2964624, 19)\n"
     ]
    },
    {
     "data": {
      "text/html": [
       "<div>\n",
       "<style scoped>\n",
       "    .dataframe tbody tr th:only-of-type {\n",
       "        vertical-align: middle;\n",
       "    }\n",
       "\n",
       "    .dataframe tbody tr th {\n",
       "        vertical-align: top;\n",
       "    }\n",
       "\n",
       "    .dataframe thead th {\n",
       "        text-align: right;\n",
       "    }\n",
       "</style>\n",
       "<table border=\"1\" class=\"dataframe\">\n",
       "  <thead>\n",
       "    <tr style=\"text-align: right;\">\n",
       "      <th></th>\n",
       "      <th>VendorID</th>\n",
       "      <th>tpep_pickup_datetime</th>\n",
       "      <th>tpep_dropoff_datetime</th>\n",
       "      <th>passenger_count</th>\n",
       "      <th>trip_distance</th>\n",
       "      <th>RatecodeID</th>\n",
       "      <th>store_and_fwd_flag</th>\n",
       "      <th>PULocationID</th>\n",
       "      <th>DOLocationID</th>\n",
       "      <th>payment_type</th>\n",
       "      <th>fare_amount</th>\n",
       "      <th>extra</th>\n",
       "      <th>mta_tax</th>\n",
       "      <th>tip_amount</th>\n",
       "      <th>tolls_amount</th>\n",
       "      <th>improvement_surcharge</th>\n",
       "      <th>total_amount</th>\n",
       "      <th>congestion_surcharge</th>\n",
       "      <th>Airport_fee</th>\n",
       "    </tr>\n",
       "  </thead>\n",
       "  <tbody>\n",
       "    <tr>\n",
       "      <th>0</th>\n",
       "      <td>2</td>\n",
       "      <td>2024-01-01 00:57:55</td>\n",
       "      <td>2024-01-01 01:17:43</td>\n",
       "      <td>1.0</td>\n",
       "      <td>1.72</td>\n",
       "      <td>1.0</td>\n",
       "      <td>N</td>\n",
       "      <td>186</td>\n",
       "      <td>79</td>\n",
       "      <td>2</td>\n",
       "      <td>17.7</td>\n",
       "      <td>1.0</td>\n",
       "      <td>0.5</td>\n",
       "      <td>0.00</td>\n",
       "      <td>0.0</td>\n",
       "      <td>1.0</td>\n",
       "      <td>22.70</td>\n",
       "      <td>2.5</td>\n",
       "      <td>0.0</td>\n",
       "    </tr>\n",
       "    <tr>\n",
       "      <th>1</th>\n",
       "      <td>1</td>\n",
       "      <td>2024-01-01 00:03:00</td>\n",
       "      <td>2024-01-01 00:09:36</td>\n",
       "      <td>1.0</td>\n",
       "      <td>1.80</td>\n",
       "      <td>1.0</td>\n",
       "      <td>N</td>\n",
       "      <td>140</td>\n",
       "      <td>236</td>\n",
       "      <td>1</td>\n",
       "      <td>10.0</td>\n",
       "      <td>3.5</td>\n",
       "      <td>0.5</td>\n",
       "      <td>3.75</td>\n",
       "      <td>0.0</td>\n",
       "      <td>1.0</td>\n",
       "      <td>18.75</td>\n",
       "      <td>2.5</td>\n",
       "      <td>0.0</td>\n",
       "    </tr>\n",
       "    <tr>\n",
       "      <th>2</th>\n",
       "      <td>1</td>\n",
       "      <td>2024-01-01 00:17:06</td>\n",
       "      <td>2024-01-01 00:35:01</td>\n",
       "      <td>1.0</td>\n",
       "      <td>4.70</td>\n",
       "      <td>1.0</td>\n",
       "      <td>N</td>\n",
       "      <td>236</td>\n",
       "      <td>79</td>\n",
       "      <td>1</td>\n",
       "      <td>23.3</td>\n",
       "      <td>3.5</td>\n",
       "      <td>0.5</td>\n",
       "      <td>3.00</td>\n",
       "      <td>0.0</td>\n",
       "      <td>1.0</td>\n",
       "      <td>31.30</td>\n",
       "      <td>2.5</td>\n",
       "      <td>0.0</td>\n",
       "    </tr>\n",
       "    <tr>\n",
       "      <th>3</th>\n",
       "      <td>1</td>\n",
       "      <td>2024-01-01 00:36:38</td>\n",
       "      <td>2024-01-01 00:44:56</td>\n",
       "      <td>1.0</td>\n",
       "      <td>1.40</td>\n",
       "      <td>1.0</td>\n",
       "      <td>N</td>\n",
       "      <td>79</td>\n",
       "      <td>211</td>\n",
       "      <td>1</td>\n",
       "      <td>10.0</td>\n",
       "      <td>3.5</td>\n",
       "      <td>0.5</td>\n",
       "      <td>2.00</td>\n",
       "      <td>0.0</td>\n",
       "      <td>1.0</td>\n",
       "      <td>17.00</td>\n",
       "      <td>2.5</td>\n",
       "      <td>0.0</td>\n",
       "    </tr>\n",
       "    <tr>\n",
       "      <th>4</th>\n",
       "      <td>1</td>\n",
       "      <td>2024-01-01 00:46:51</td>\n",
       "      <td>2024-01-01 00:52:57</td>\n",
       "      <td>1.0</td>\n",
       "      <td>0.80</td>\n",
       "      <td>1.0</td>\n",
       "      <td>N</td>\n",
       "      <td>211</td>\n",
       "      <td>148</td>\n",
       "      <td>1</td>\n",
       "      <td>7.9</td>\n",
       "      <td>3.5</td>\n",
       "      <td>0.5</td>\n",
       "      <td>3.20</td>\n",
       "      <td>0.0</td>\n",
       "      <td>1.0</td>\n",
       "      <td>16.10</td>\n",
       "      <td>2.5</td>\n",
       "      <td>0.0</td>\n",
       "    </tr>\n",
       "  </tbody>\n",
       "</table>\n",
       "</div>"
      ],
      "text/plain": [
       "   VendorID tpep_pickup_datetime tpep_dropoff_datetime  passenger_count  \\\n",
       "0         2  2024-01-01 00:57:55   2024-01-01 01:17:43              1.0   \n",
       "1         1  2024-01-01 00:03:00   2024-01-01 00:09:36              1.0   \n",
       "2         1  2024-01-01 00:17:06   2024-01-01 00:35:01              1.0   \n",
       "3         1  2024-01-01 00:36:38   2024-01-01 00:44:56              1.0   \n",
       "4         1  2024-01-01 00:46:51   2024-01-01 00:52:57              1.0   \n",
       "\n",
       "   trip_distance  RatecodeID store_and_fwd_flag  PULocationID  DOLocationID  \\\n",
       "0           1.72         1.0                  N           186            79   \n",
       "1           1.80         1.0                  N           140           236   \n",
       "2           4.70         1.0                  N           236            79   \n",
       "3           1.40         1.0                  N            79           211   \n",
       "4           0.80         1.0                  N           211           148   \n",
       "\n",
       "   payment_type  fare_amount  extra  mta_tax  tip_amount  tolls_amount  \\\n",
       "0             2         17.7    1.0      0.5        0.00           0.0   \n",
       "1             1         10.0    3.5      0.5        3.75           0.0   \n",
       "2             1         23.3    3.5      0.5        3.00           0.0   \n",
       "3             1         10.0    3.5      0.5        2.00           0.0   \n",
       "4             1          7.9    3.5      0.5        3.20           0.0   \n",
       "\n",
       "   improvement_surcharge  total_amount  congestion_surcharge  Airport_fee  \n",
       "0                    1.0         22.70                   2.5          0.0  \n",
       "1                    1.0         18.75                   2.5          0.0  \n",
       "2                    1.0         31.30                   2.5          0.0  \n",
       "3                    1.0         17.00                   2.5          0.0  \n",
       "4                    1.0         16.10                   2.5          0.0  "
      ]
     },
     "execution_count": 6,
     "metadata": {},
     "output_type": "execute_result"
    }
   ],
   "source": [
    "print(taxi_data.shape)\n",
    "taxi_data.head()"
   ]
  },
  {
   "cell_type": "code",
   "execution_count": 8,
   "id": "5c78889f-c58c-4962-b505-22a0c50c5d33",
   "metadata": {},
   "outputs": [
    {
     "data": {
      "text/plain": [
       "Index(['VendorID', 'tpep_pickup_datetime', 'tpep_dropoff_datetime',\n",
       "       'passenger_count', 'trip_distance', 'RatecodeID', 'store_and_fwd_flag',\n",
       "       'PULocationID', 'DOLocationID', 'payment_type', 'fare_amount', 'extra',\n",
       "       'mta_tax', 'tip_amount', 'tolls_amount', 'improvement_surcharge',\n",
       "       'total_amount', 'congestion_surcharge', 'Airport_fee'],\n",
       "      dtype='object')"
      ]
     },
     "execution_count": 8,
     "metadata": {},
     "output_type": "execute_result"
    }
   ],
   "source": [
    "taxi_data.columns"
   ]
  },
  {
   "cell_type": "code",
   "execution_count": 10,
   "id": "66a7ffa0-6673-4aef-b65e-83929b7365fb",
   "metadata": {},
   "outputs": [],
   "source": [
    "taxi_data = taxi_data[['tpep_pickup_datetime','tpep_dropoff_datetime',\n",
    "                       'passenger_count','trip_distance','RatecodeID','PULocationID',\n",
    "                       'DOLocationID','payment_type','total_amount']]"
   ]
  },
  {
   "cell_type": "code",
   "execution_count": 11,
   "id": "f4fecb4b-bd82-481b-b95a-66025676b8de",
   "metadata": {},
   "outputs": [
    {
     "data": {
      "text/html": [
       "<div>\n",
       "<style scoped>\n",
       "    .dataframe tbody tr th:only-of-type {\n",
       "        vertical-align: middle;\n",
       "    }\n",
       "\n",
       "    .dataframe tbody tr th {\n",
       "        vertical-align: top;\n",
       "    }\n",
       "\n",
       "    .dataframe thead th {\n",
       "        text-align: right;\n",
       "    }\n",
       "</style>\n",
       "<table border=\"1\" class=\"dataframe\">\n",
       "  <thead>\n",
       "    <tr style=\"text-align: right;\">\n",
       "      <th></th>\n",
       "      <th>tpep_pickup_datetime</th>\n",
       "      <th>tpep_dropoff_datetime</th>\n",
       "      <th>passenger_count</th>\n",
       "      <th>trip_distance</th>\n",
       "      <th>RatecodeID</th>\n",
       "      <th>PULocationID</th>\n",
       "      <th>DOLocationID</th>\n",
       "      <th>payment_type</th>\n",
       "      <th>total_amount</th>\n",
       "    </tr>\n",
       "  </thead>\n",
       "  <tbody>\n",
       "    <tr>\n",
       "      <th>0</th>\n",
       "      <td>2024-01-01 00:57:55</td>\n",
       "      <td>2024-01-01 01:17:43</td>\n",
       "      <td>1.0</td>\n",
       "      <td>1.72</td>\n",
       "      <td>1.0</td>\n",
       "      <td>186</td>\n",
       "      <td>79</td>\n",
       "      <td>2</td>\n",
       "      <td>22.70</td>\n",
       "    </tr>\n",
       "    <tr>\n",
       "      <th>1</th>\n",
       "      <td>2024-01-01 00:03:00</td>\n",
       "      <td>2024-01-01 00:09:36</td>\n",
       "      <td>1.0</td>\n",
       "      <td>1.80</td>\n",
       "      <td>1.0</td>\n",
       "      <td>140</td>\n",
       "      <td>236</td>\n",
       "      <td>1</td>\n",
       "      <td>18.75</td>\n",
       "    </tr>\n",
       "    <tr>\n",
       "      <th>2</th>\n",
       "      <td>2024-01-01 00:17:06</td>\n",
       "      <td>2024-01-01 00:35:01</td>\n",
       "      <td>1.0</td>\n",
       "      <td>4.70</td>\n",
       "      <td>1.0</td>\n",
       "      <td>236</td>\n",
       "      <td>79</td>\n",
       "      <td>1</td>\n",
       "      <td>31.30</td>\n",
       "    </tr>\n",
       "    <tr>\n",
       "      <th>3</th>\n",
       "      <td>2024-01-01 00:36:38</td>\n",
       "      <td>2024-01-01 00:44:56</td>\n",
       "      <td>1.0</td>\n",
       "      <td>1.40</td>\n",
       "      <td>1.0</td>\n",
       "      <td>79</td>\n",
       "      <td>211</td>\n",
       "      <td>1</td>\n",
       "      <td>17.00</td>\n",
       "    </tr>\n",
       "    <tr>\n",
       "      <th>4</th>\n",
       "      <td>2024-01-01 00:46:51</td>\n",
       "      <td>2024-01-01 00:52:57</td>\n",
       "      <td>1.0</td>\n",
       "      <td>0.80</td>\n",
       "      <td>1.0</td>\n",
       "      <td>211</td>\n",
       "      <td>148</td>\n",
       "      <td>1</td>\n",
       "      <td>16.10</td>\n",
       "    </tr>\n",
       "  </tbody>\n",
       "</table>\n",
       "</div>"
      ],
      "text/plain": [
       "  tpep_pickup_datetime tpep_dropoff_datetime  passenger_count  trip_distance  \\\n",
       "0  2024-01-01 00:57:55   2024-01-01 01:17:43              1.0           1.72   \n",
       "1  2024-01-01 00:03:00   2024-01-01 00:09:36              1.0           1.80   \n",
       "2  2024-01-01 00:17:06   2024-01-01 00:35:01              1.0           4.70   \n",
       "3  2024-01-01 00:36:38   2024-01-01 00:44:56              1.0           1.40   \n",
       "4  2024-01-01 00:46:51   2024-01-01 00:52:57              1.0           0.80   \n",
       "\n",
       "   RatecodeID  PULocationID  DOLocationID  payment_type  total_amount  \n",
       "0         1.0           186            79             2         22.70  \n",
       "1         1.0           140           236             1         18.75  \n",
       "2         1.0           236            79             1         31.30  \n",
       "3         1.0            79           211             1         17.00  \n",
       "4         1.0           211           148             1         16.10  "
      ]
     },
     "execution_count": 11,
     "metadata": {},
     "output_type": "execute_result"
    }
   ],
   "source": [
    "taxi_data.head()"
   ]
  },
  {
   "cell_type": "code",
   "execution_count": 12,
   "id": "bb0998c2-e4a0-4f41-aa9c-827d92aa8799",
   "metadata": {
    "scrolled": true
   },
   "outputs": [
    {
     "data": {
      "text/plain": [
       "array([[<Axes: title={'center': 'tpep_pickup_datetime'}>,\n",
       "        <Axes: title={'center': 'tpep_dropoff_datetime'}>,\n",
       "        <Axes: title={'center': 'passenger_count'}>],\n",
       "       [<Axes: title={'center': 'trip_distance'}>,\n",
       "        <Axes: title={'center': 'RatecodeID'}>,\n",
       "        <Axes: title={'center': 'PULocationID'}>],\n",
       "       [<Axes: title={'center': 'DOLocationID'}>,\n",
       "        <Axes: title={'center': 'payment_type'}>,\n",
       "        <Axes: title={'center': 'total_amount'}>]], dtype=object)"
      ]
     },
     "execution_count": 12,
     "metadata": {},
     "output_type": "execute_result"
    },
    {
     "data": {
      "image/png": "[encoded data removed]",
      "text/plain": [
       "<Figure size 2000x1000 with 9 Axes>"
      ]
     },
     "metadata": {},
     "output_type": "display_data"
    }
   ],
   "source": [
    "taxi_data.hist(figsize=(20,10),bins = 60)"
   ]
  },
  {
   "cell_type": "markdown",
   "id": "b5765b18-5a26-4650-a1d6-7e80b26ecc6c",
   "metadata": {},
   "source": [
    "#here we need to check for the RateCodeId"
   ]
  },
  {
   "cell_type": "code",
   "execution_count": 13,
   "id": "4ef2c43b-373f-4a16-bb95-dfaa95d0a30d",
   "metadata": {},
   "outputs": [
    {
     "data": {
      "text/plain": [
       "RatecodeID\n",
       "1.0     2663350\n",
       "2.0       98713\n",
       "99.0      28663\n",
       "5.0       19410\n",
       "3.0        7954\n",
       "4.0        6365\n",
       "6.0           7\n",
       "Name: count, dtype: int64"
      ]
     },
     "execution_count": 13,
     "metadata": {},
     "output_type": "execute_result"
    }
   ],
   "source": [
    "taxi_data['RatecodeID'].value_counts()"
   ]
  },
  {
   "cell_type": "markdown",
   "id": "09c80fd2-149b-47b4-b23e-645fa07de8ea",
   "metadata": {},
   "source": [
    "a lot of negative data exists here"
   ]
  },
  {
   "cell_type": "code",
   "execution_count": 15,
   "id": "ca376fe3-548c-4a97-b569-ae2ff1076bcd",
   "metadata": {
    "scrolled": true
   },
   "outputs": [
    {
     "data": {
      "text/plain": [
       "<Axes: xlabel='index', ylabel='total_amount'>"
      ]
     },
     "execution_count": 15,
     "metadata": {},
     "output_type": "execute_result"
    },
    {
     "data": {
      "image/png": "[encoded data removed]",
      "text/plain": [
       "<Figure size 1000x500 with 1 Axes>"
      ]
     },
     "metadata": {},
     "output_type": "display_data"
    }
   ],
   "source": [
    "taxi_data[taxi_data['total_amount']<1000].reset_index().plot(kind = 'scatter', y = 'total_amount',x='index',figsize=(10,5))"
   ]
  },
  {
   "cell_type": "code",
   "execution_count": 19,
   "id": "1d97a198-023a-489c-854c-bf1cba658fa8",
   "metadata": {},
   "outputs": [
    {
     "name": "stdout",
     "output_type": "stream",
     "text": [
      "(35504, 9)\n"
     ]
    }
   ],
   "source": [
    "print(taxi_data[taxi_data['total_amount']<0].shape)"
   ]
  },
  {
   "cell_type": "code",
   "execution_count": 20,
   "id": "67c78d9c-3d8b-4461-9fe8-5ff797324777",
   "metadata": {},
   "outputs": [
    {
     "data": {
      "text/html": [
       "<div>\n",
       "<style scoped>\n",
       "    .dataframe tbody tr th:only-of-type {\n",
       "        vertical-align: middle;\n",
       "    }\n",
       "\n",
       "    .dataframe tbody tr th {\n",
       "        vertical-align: top;\n",
       "    }\n",
       "\n",
       "    .dataframe thead th {\n",
       "        text-align: right;\n",
       "    }\n",
       "</style>\n",
       "<table border=\"1\" class=\"dataframe\">\n",
       "  <thead>\n",
       "    <tr style=\"text-align: right;\">\n",
       "      <th></th>\n",
       "      <th>tpep_pickup_datetime</th>\n",
       "      <th>tpep_dropoff_datetime</th>\n",
       "      <th>passenger_count</th>\n",
       "      <th>trip_distance</th>\n",
       "      <th>RatecodeID</th>\n",
       "      <th>PULocationID</th>\n",
       "      <th>DOLocationID</th>\n",
       "      <th>payment_type</th>\n",
       "      <th>total_amount</th>\n",
       "    </tr>\n",
       "  </thead>\n",
       "  <tbody>\n",
       "    <tr>\n",
       "      <th>99</th>\n",
       "      <td>2024-01-01 00:18:24</td>\n",
       "      <td>2024-01-01 00:30:39</td>\n",
       "      <td>1.0</td>\n",
       "      <td>2.16</td>\n",
       "      <td>1.0</td>\n",
       "      <td>249</td>\n",
       "      <td>232</td>\n",
       "      <td>4</td>\n",
       "      <td>-18.50</td>\n",
       "    </tr>\n",
       "    <tr>\n",
       "      <th>506</th>\n",
       "      <td>2024-01-01 00:04:00</td>\n",
       "      <td>2024-01-01 00:04:44</td>\n",
       "      <td>1.0</td>\n",
       "      <td>0.01</td>\n",
       "      <td>5.0</td>\n",
       "      <td>63</td>\n",
       "      <td>63</td>\n",
       "      <td>2</td>\n",
       "      <td>-34.25</td>\n",
       "    </tr>\n",
       "    <tr>\n",
       "      <th>536</th>\n",
       "      <td>2024-01-01 00:41:42</td>\n",
       "      <td>2024-01-01 00:46:00</td>\n",
       "      <td>1.0</td>\n",
       "      <td>0.47</td>\n",
       "      <td>1.0</td>\n",
       "      <td>249</td>\n",
       "      <td>113</td>\n",
       "      <td>4</td>\n",
       "      <td>-10.80</td>\n",
       "    </tr>\n",
       "    <tr>\n",
       "      <th>552</th>\n",
       "      <td>2024-01-01 00:42:02</td>\n",
       "      <td>2024-01-01 01:14:33</td>\n",
       "      <td>1.0</td>\n",
       "      <td>5.48</td>\n",
       "      <td>1.0</td>\n",
       "      <td>107</td>\n",
       "      <td>61</td>\n",
       "      <td>2</td>\n",
       "      <td>-38.10</td>\n",
       "    </tr>\n",
       "    <tr>\n",
       "      <th>682</th>\n",
       "      <td>2024-01-01 00:24:02</td>\n",
       "      <td>2024-01-01 01:10:32</td>\n",
       "      <td>1.0</td>\n",
       "      <td>8.74</td>\n",
       "      <td>1.0</td>\n",
       "      <td>90</td>\n",
       "      <td>225</td>\n",
       "      <td>4</td>\n",
       "      <td>-52.80</td>\n",
       "    </tr>\n",
       "  </tbody>\n",
       "</table>\n",
       "</div>"
      ],
      "text/plain": [
       "    tpep_pickup_datetime tpep_dropoff_datetime  passenger_count  \\\n",
       "99   2024-01-01 00:18:24   2024-01-01 00:30:39              1.0   \n",
       "506  2024-01-01 00:04:00   2024-01-01 00:04:44              1.0   \n",
       "536  2024-01-01 00:41:42   2024-01-01 00:46:00              1.0   \n",
       "552  2024-01-01 00:42:02   2024-01-01 01:14:33              1.0   \n",
       "682  2024-01-01 00:24:02   2024-01-01 01:10:32              1.0   \n",
       "\n",
       "     trip_distance  RatecodeID  PULocationID  DOLocationID  payment_type  \\\n",
       "99            2.16         1.0           249           232             4   \n",
       "506           0.01         5.0            63            63             2   \n",
       "536           0.47         1.0           249           113             4   \n",
       "552           5.48         1.0           107            61             2   \n",
       "682           8.74         1.0            90           225             4   \n",
       "\n",
       "     total_amount  \n",
       "99         -18.50  \n",
       "506        -34.25  \n",
       "536        -10.80  \n",
       "552        -38.10  \n",
       "682        -52.80  "
      ]
     },
     "execution_count": 20,
     "metadata": {},
     "output_type": "execute_result"
    }
   ],
   "source": [
    "taxi_data[taxi_data['total_amount']<0].head()"
   ]
  },
  {
   "cell_type": "code",
   "execution_count": 22,
   "id": "3ec5b4ae-bc35-4d39-b616-97f22fca7f8d",
   "metadata": {},
   "outputs": [
    {
     "data": {
      "text/plain": [
       "payment_type\n",
       "4    21406\n",
       "2     8326\n",
       "3     5741\n",
       "1       29\n",
       "0        2\n",
       "Name: count, dtype: int64"
      ]
     },
     "execution_count": 22,
     "metadata": {},
     "output_type": "execute_result"
    }
   ],
   "source": [
    "taxi_data[taxi_data['total_amount']<0]['payment_type'].value_counts()"
   ]
  },
  {
   "cell_type": "code",
   "execution_count": 24,
   "id": "e68ad364-76cf-4c1f-a4bb-dcae4fe4488b",
   "metadata": {},
   "outputs": [
    {
     "data": {
      "text/plain": [
       "payment_type\n",
       "1    2318888\n",
       "2     430800\n",
       "0     140149\n",
       "4      25094\n",
       "3      13773\n",
       "Name: count, dtype: int64"
      ]
     },
     "execution_count": 24,
     "metadata": {},
     "output_type": "execute_result"
    }
   ],
   "source": [
    "taxi_data[taxi_data['total_amount']>0]['payment_type'].value_counts()"
   ]
  },
  {
   "cell_type": "markdown",
   "id": "f25916a9-3520-4b60-86a4-db2e90a681fb",
   "metadata": {},
   "source": [
    "an insignificant amount of negative values exist we can ignore the data for study purpose"
   ]
  },
  {
   "cell_type": "code",
   "execution_count": 25,
   "id": "16eccd71-734d-4628-9fc1-393fb53da4f1",
   "metadata": {},
   "outputs": [
    {
     "data": {
      "text/plain": [
       "payment_type\n",
       "1    129\n",
       "4    128\n",
       "3     83\n",
       "2     65\n",
       "0     11\n",
       "Name: count, dtype: int64"
      ]
     },
     "execution_count": 25,
     "metadata": {},
     "output_type": "execute_result"
    }
   ],
   "source": [
    "taxi_data[taxi_data['total_amount']==0]['payment_type'].value_counts()"
   ]
  },
  {
   "cell_type": "code",
   "execution_count": 28,
   "id": "da584b4e-81a2-4d9a-adcc-adde518437ba",
   "metadata": {},
   "outputs": [
    {
     "name": "stdout",
     "output_type": "stream",
     "text": [
      "(416, 9)\n"
     ]
    }
   ],
   "source": [
    "print(taxi_data[taxi_data['total_amount']==0].shape)"
   ]
  },
  {
   "cell_type": "code",
   "execution_count": 29,
   "id": "7819d4e0-7631-45aa-a675-75c5b79c2870",
   "metadata": {},
   "outputs": [
    {
     "name": "stdout",
     "output_type": "stream",
     "text": [
      "(35504, 9)\n"
     ]
    }
   ],
   "source": [
    "print(taxi_data[taxi_data['total_amount']<0].shape)"
   ]
  },
  {
   "cell_type": "code",
   "execution_count": 30,
   "id": "2096701c-34cf-4df0-aff5-05f6bc39fcbf",
   "metadata": {},
   "outputs": [
    {
     "name": "stdout",
     "output_type": "stream",
     "text": [
      "(2928704, 9)\n"
     ]
    }
   ],
   "source": [
    "print(taxi_data[taxi_data['total_amount']>0].shape)"
   ]
  },
  {
   "cell_type": "code",
   "execution_count": 31,
   "id": "b22a375f-cb32-44a5-a745-87542f99cffd",
   "metadata": {},
   "outputs": [
    {
     "data": {
      "text/plain": [
       "<Axes: >"
      ]
     },
     "execution_count": 31,
     "metadata": {},
     "output_type": "execute_result"
    },
    {
     "data": {
      "image/png": "[encoded data removed]",
      "text/plain": [
       "<Figure size 1000x500 with 1 Axes>"
      ]
     },
     "metadata": {},
     "output_type": "display_data"
    }
   ],
   "source": [
    "taxi_data[taxi_data['total_amount']==0]['trip_distance'].hist(bins=60,figsize=(10,5))"
   ]
  },
  {
   "cell_type": "code",
   "execution_count": 32,
   "id": "b7679d5b-a66f-4f07-8036-3b1d7ba062c8",
   "metadata": {},
   "outputs": [
    {
     "data": {
      "text/plain": [
       "<Axes: >"
      ]
     },
     "execution_count": 32,
     "metadata": {},
     "output_type": "execute_result"
    },
    {
     "data": {
      "image/png": "[encoded data removed]",
      "text/plain": [
       "<Figure size 1000x500 with 1 Axes>"
      ]
     },
     "metadata": {},
     "output_type": "display_data"
    }
   ],
   "source": [
    "taxi_data[taxi_data['total_amount']<0]['trip_distance'].hist(bins=60,figsize=(10,5))"
   ]
  },
  {
   "cell_type": "code",
   "execution_count": 33,
   "id": "d9cb2f1a-5c71-4575-bc7b-f7d42a239c3b",
   "metadata": {},
   "outputs": [
    {
     "data": {
      "text/plain": [
       "<Axes: xlabel='index', ylabel='total_amount'>"
      ]
     },
     "execution_count": 33,
     "metadata": {},
     "output_type": "execute_result"
    },
    {
     "data": {
      "image/png": "[encoded data removed]",
      "text/plain": [
       "<Figure size 1000x500 with 1 Axes>"
      ]
     },
     "metadata": {},
     "output_type": "display_data"
    }
   ],
   "source": [
    "taxi_data.reset_index().plot(kind='scatter',y = 'total_amount',x='index',figsize=(10,5))"
   ]
  },
  {
   "cell_type": "code",
   "execution_count": 34,
   "id": "6de8d5fc-d0fb-4d49-bcd2-d7053309a739",
   "metadata": {},
   "outputs": [
    {
     "data": {
      "text/plain": [
       "(7, 9)"
      ]
     },
     "execution_count": 34,
     "metadata": {},
     "output_type": "execute_result"
    }
   ],
   "source": [
    "taxi_data[taxi_data['total_amount']>1000].shape"
   ]
  },
  {
   "cell_type": "code",
   "execution_count": 35,
   "id": "1a62c922-8997-463d-ba40-d2f9964291b2",
   "metadata": {},
   "outputs": [
    {
     "data": {
      "text/plain": [
       "(2964616, 9)"
      ]
     },
     "execution_count": 35,
     "metadata": {},
     "output_type": "execute_result"
    }
   ],
   "source": [
    "taxi_data[taxi_data['total_amount']<1000].shape"
   ]
  },
  {
   "cell_type": "code",
   "execution_count": 36,
   "id": "bae67a28-f2f1-4245-bd8e-759c97643104",
   "metadata": {},
   "outputs": [
    {
     "data": {
      "text/plain": [
       "(62, 9)"
      ]
     },
     "execution_count": 36,
     "metadata": {},
     "output_type": "execute_result"
    }
   ],
   "source": [
    "taxi_data[taxi_data['total_amount']>500].shape"
   ]
  },
  {
   "cell_type": "code",
   "execution_count": 37,
   "id": "c8831eaa-9a46-4bd9-be6c-5d4959098116",
   "metadata": {},
   "outputs": [
    {
     "data": {
      "text/plain": [
       "(179, 9)"
      ]
     },
     "execution_count": 37,
     "metadata": {},
     "output_type": "execute_result"
    }
   ],
   "source": [
    "taxi_data[taxi_data['total_amount']>400].shape"
   ]
  },
  {
   "cell_type": "code",
   "execution_count": 38,
   "id": "328b2bb3-1aea-4f8e-b69e-e8c2198de694",
   "metadata": {},
   "outputs": [
    {
     "data": {
      "text/plain": [
       "(525, 9)"
      ]
     },
     "execution_count": 38,
     "metadata": {},
     "output_type": "execute_result"
    }
   ],
   "source": [
    "taxi_data[taxi_data['total_amount']>300].shape"
   ]
  },
  {
   "cell_type": "code",
   "execution_count": 39,
   "id": "a825a872-08de-4cfc-9a26-a9d1331ad89f",
   "metadata": {},
   "outputs": [
    {
     "data": {
      "text/plain": [
       "(2005, 9)"
      ]
     },
     "execution_count": 39,
     "metadata": {},
     "output_type": "execute_result"
    }
   ],
   "source": [
    "taxi_data[taxi_data['total_amount']>200].shape"
   ]
  },
  {
   "cell_type": "code",
   "execution_count": 40,
   "id": "5013abbb-c44f-4cb2-99d4-400566f22d4c",
   "metadata": {},
   "outputs": [
    {
     "data": {
      "text/plain": [
       "26.801504770925415"
      ]
     },
     "execution_count": 40,
     "metadata": {},
     "output_type": "execute_result"
    }
   ],
   "source": [
    "taxi_data['total_amount'].mean()\n"
   ]
  },
  {
   "cell_type": "markdown",
   "id": "6b732f0e-1471-4a7e-b15a-b05b58e9252c",
   "metadata": {},
   "source": [
    "#filtering the data"
   ]
  },
  {
   "cell_type": "code",
   "execution_count": 41,
   "id": "e37388f9-2dbe-463f-b2f3-d57aadbf6c48",
   "metadata": {},
   "outputs": [],
   "source": [
    "taxidatafilter = taxi_data[(taxi_data['total_amount']>=0)&(taxi_data['total_amount']<300)]"
   ]
  },
  {
   "cell_type": "code",
   "execution_count": 42,
   "id": "f86baecf-25b0-4a72-b918-d62368fead42",
   "metadata": {},
   "outputs": [
    {
     "data": {
      "text/plain": [
       "(2928593, 9)"
      ]
     },
     "execution_count": 42,
     "metadata": {},
     "output_type": "execute_result"
    }
   ],
   "source": [
    "taxidatafilter.shape"
   ]
  },
  {
   "cell_type": "code",
   "execution_count": 43,
   "id": "e8b722a2-a1dd-47f2-a32b-d4ec0a766f0a",
   "metadata": {},
   "outputs": [
    {
     "data": {
      "text/plain": [
       "tpep_pickup_datetime          0\n",
       "tpep_dropoff_datetime         0\n",
       "passenger_count          140159\n",
       "trip_distance                 0\n",
       "RatecodeID               140159\n",
       "PULocationID                  0\n",
       "DOLocationID                  0\n",
       "payment_type                  0\n",
       "total_amount                  0\n",
       "dtype: int64"
      ]
     },
     "execution_count": 43,
     "metadata": {},
     "output_type": "execute_result"
    }
   ],
   "source": [
    "taxidatafilter.isna().sum()"
   ]
  },
  {
   "cell_type": "markdown",
   "id": "c063f37b-b34b-4f7f-871c-0b64609f755d",
   "metadata": {},
   "source": [
    "we will ignore this for now and will modify further if needed...."
   ]
  },
  {
   "cell_type": "code",
   "execution_count": 44,
   "id": "f07a4400-9ad8-40ef-8a89-63d6c5b8759e",
   "metadata": {},
   "outputs": [],
   "source": [
    "taxiDataPrepare = taxidatafilter.copy()"
   ]
  },
  {
   "cell_type": "code",
   "execution_count": 46,
   "id": "266f34a7-2822-4ba0-9aa7-08c0c904658b",
   "metadata": {},
   "outputs": [
    {
     "data": {
      "text/plain": [
       "tpep_pickup_datetime     datetime64[us]\n",
       "tpep_dropoff_datetime    datetime64[us]\n",
       "passenger_count                 float64\n",
       "trip_distance                   float64\n",
       "RatecodeID                      float64\n",
       "PULocationID                      int32\n",
       "DOLocationID                      int32\n",
       "payment_type                      int64\n",
       "total_amount                    float64\n",
       "dtype: object"
      ]
     },
     "execution_count": 46,
     "metadata": {},
     "output_type": "execute_result"
    }
   ],
   "source": [
    "taxiDataPrepare.dtypes"
   ]
  },
  {
   "cell_type": "code",
   "execution_count": 47,
   "id": "aa6a441b-8e1b-47df-a510-1411f7971c81",
   "metadata": {},
   "outputs": [],
   "source": [
    "taxiDataPrepare.loc[:,'RatecodeID'] = taxiDataPrepare['RatecodeID'].astype(str)\n",
    "taxiDataPrepare.loc[:,'PULocationID'] = taxiDataPrepare['PULocationID'].astype(str)\n",
    "taxiDataPrepare.loc[:,'DOLocationID'] = taxiDataPrepare['DOLocationID'].astype(str)\n",
    "taxiDataPrepare.loc[:,'payment_type'] = taxiDataPrepare['payment_type'].astype(str)"
   ]
  },
  {
   "cell_type": "code",
   "execution_count": 48,
   "id": "2dcd4201-2e42-41d1-b0ac-495e4c57d785",
   "metadata": {},
   "outputs": [
    {
     "data": {
      "text/plain": [
       "tpep_pickup_datetime     datetime64[us]\n",
       "tpep_dropoff_datetime    datetime64[us]\n",
       "passenger_count                 float64\n",
       "trip_distance                   float64\n",
       "RatecodeID                       object\n",
       "PULocationID                     object\n",
       "DOLocationID                     object\n",
       "payment_type                     object\n",
       "total_amount                    float64\n",
       "dtype: object"
      ]
     },
     "execution_count": 48,
     "metadata": {},
     "output_type": "execute_result"
    }
   ],
   "source": [
    "taxiDataPrepare.dtypes"
   ]
  },
  {
   "cell_type": "code",
   "execution_count": 49,
   "id": "330a1d73-0f12-4022-9c72-44afe3dbd95e",
   "metadata": {},
   "outputs": [
    {
     "data": {
      "text/html": [
       "<div>\n",
       "<style scoped>\n",
       "    .dataframe tbody tr th:only-of-type {\n",
       "        vertical-align: middle;\n",
       "    }\n",
       "\n",
       "    .dataframe tbody tr th {\n",
       "        vertical-align: top;\n",
       "    }\n",
       "\n",
       "    .dataframe thead th {\n",
       "        text-align: right;\n",
       "    }\n",
       "</style>\n",
       "<table border=\"1\" class=\"dataframe\">\n",
       "  <thead>\n",
       "    <tr style=\"text-align: right;\">\n",
       "      <th></th>\n",
       "      <th>tpep_pickup_datetime</th>\n",
       "      <th>tpep_dropoff_datetime</th>\n",
       "      <th>passenger_count</th>\n",
       "      <th>trip_distance</th>\n",
       "      <th>RatecodeID</th>\n",
       "      <th>PULocationID</th>\n",
       "      <th>DOLocationID</th>\n",
       "      <th>payment_type</th>\n",
       "      <th>total_amount</th>\n",
       "    </tr>\n",
       "  </thead>\n",
       "  <tbody>\n",
       "    <tr>\n",
       "      <th>0</th>\n",
       "      <td>2024-01-01 00:57:55</td>\n",
       "      <td>2024-01-01 01:17:43</td>\n",
       "      <td>1.0</td>\n",
       "      <td>1.72</td>\n",
       "      <td>1.0</td>\n",
       "      <td>186</td>\n",
       "      <td>79</td>\n",
       "      <td>2</td>\n",
       "      <td>22.70</td>\n",
       "    </tr>\n",
       "    <tr>\n",
       "      <th>1</th>\n",
       "      <td>2024-01-01 00:03:00</td>\n",
       "      <td>2024-01-01 00:09:36</td>\n",
       "      <td>1.0</td>\n",
       "      <td>1.80</td>\n",
       "      <td>1.0</td>\n",
       "      <td>140</td>\n",
       "      <td>236</td>\n",
       "      <td>1</td>\n",
       "      <td>18.75</td>\n",
       "    </tr>\n",
       "    <tr>\n",
       "      <th>2</th>\n",
       "      <td>2024-01-01 00:17:06</td>\n",
       "      <td>2024-01-01 00:35:01</td>\n",
       "      <td>1.0</td>\n",
       "      <td>4.70</td>\n",
       "      <td>1.0</td>\n",
       "      <td>236</td>\n",
       "      <td>79</td>\n",
       "      <td>1</td>\n",
       "      <td>31.30</td>\n",
       "    </tr>\n",
       "    <tr>\n",
       "      <th>3</th>\n",
       "      <td>2024-01-01 00:36:38</td>\n",
       "      <td>2024-01-01 00:44:56</td>\n",
       "      <td>1.0</td>\n",
       "      <td>1.40</td>\n",
       "      <td>1.0</td>\n",
       "      <td>79</td>\n",
       "      <td>211</td>\n",
       "      <td>1</td>\n",
       "      <td>17.00</td>\n",
       "    </tr>\n",
       "    <tr>\n",
       "      <th>4</th>\n",
       "      <td>2024-01-01 00:46:51</td>\n",
       "      <td>2024-01-01 00:52:57</td>\n",
       "      <td>1.0</td>\n",
       "      <td>0.80</td>\n",
       "      <td>1.0</td>\n",
       "      <td>211</td>\n",
       "      <td>148</td>\n",
       "      <td>1</td>\n",
       "      <td>16.10</td>\n",
       "    </tr>\n",
       "  </tbody>\n",
       "</table>\n",
       "</div>"
      ],
      "text/plain": [
       "  tpep_pickup_datetime tpep_dropoff_datetime  passenger_count  trip_distance  \\\n",
       "0  2024-01-01 00:57:55   2024-01-01 01:17:43              1.0           1.72   \n",
       "1  2024-01-01 00:03:00   2024-01-01 00:09:36              1.0           1.80   \n",
       "2  2024-01-01 00:17:06   2024-01-01 00:35:01              1.0           4.70   \n",
       "3  2024-01-01 00:36:38   2024-01-01 00:44:56              1.0           1.40   \n",
       "4  2024-01-01 00:46:51   2024-01-01 00:52:57              1.0           0.80   \n",
       "\n",
       "  RatecodeID PULocationID DOLocationID payment_type  total_amount  \n",
       "0        1.0          186           79            2         22.70  \n",
       "1        1.0          140          236            1         18.75  \n",
       "2        1.0          236           79            1         31.30  \n",
       "3        1.0           79          211            1         17.00  \n",
       "4        1.0          211          148            1         16.10  "
      ]
     },
     "execution_count": 49,
     "metadata": {},
     "output_type": "execute_result"
    }
   ],
   "source": [
    "taxiDataPrepare.head()"
   ]
  },
  {
   "cell_type": "code",
   "execution_count": 50,
   "id": "0a955e5b-9846-47f7-8aa8-995fb5fcf1c0",
   "metadata": {},
   "outputs": [],
   "source": [
    "taxiDataPrepare['transaction_date'] = pd.to_datetime(taxiDataPrepare['tpep_pickup_datetime'].dt.date)\n",
    "taxiDataPrepare['transaction_year'] = pd.to_datetime(taxiDataPrepare['tpep_pickup_datetime'].dt.year)\n",
    "taxiDataPrepare['transaction_month'] = pd.to_datetime(taxiDataPrepare['tpep_pickup_datetime'].dt.month)\n",
    "taxiDataPrepare['transaction_day'] = pd.to_datetime(taxiDataPrepare['tpep_pickup_datetime'].dt.day)\n",
    "taxiDataPrepare['transaction_hour'] = pd.to_datetime(taxiDataPrepare['tpep_pickup_datetime'].dt.hour)"
   ]
  },
  {
   "cell_type": "code",
   "execution_count": 51,
   "id": "30508d62-cb19-40f8-9a13-b5bd54badafc",
   "metadata": {},
   "outputs": [
    {
     "data": {
      "text/html": [
       "<div>\n",
       "<style scoped>\n",
       "    .dataframe tbody tr th:only-of-type {\n",
       "        vertical-align: middle;\n",
       "    }\n",
       "\n",
       "    .dataframe tbody tr th {\n",
       "        vertical-align: top;\n",
       "    }\n",
       "\n",
       "    .dataframe thead th {\n",
       "        text-align: right;\n",
       "    }\n",
       "</style>\n",
       "<table border=\"1\" class=\"dataframe\">\n",
       "  <thead>\n",
       "    <tr style=\"text-align: right;\">\n",
       "      <th></th>\n",
       "      <th>tpep_pickup_datetime</th>\n",
       "      <th>tpep_dropoff_datetime</th>\n",
       "      <th>passenger_count</th>\n",
       "      <th>trip_distance</th>\n",
       "      <th>RatecodeID</th>\n",
       "      <th>PULocationID</th>\n",
       "      <th>DOLocationID</th>\n",
       "      <th>payment_type</th>\n",
       "      <th>total_amount</th>\n",
       "      <th>transaction_date</th>\n",
       "      <th>transaction_year</th>\n",
       "      <th>transaction_month</th>\n",
       "      <th>transaction_day</th>\n",
       "      <th>transaction_hour</th>\n",
       "    </tr>\n",
       "  </thead>\n",
       "  <tbody>\n",
       "    <tr>\n",
       "      <th>0</th>\n",
       "      <td>2024-01-01 00:57:55</td>\n",
       "      <td>2024-01-01 01:17:43</td>\n",
       "      <td>1.0</td>\n",
       "      <td>1.72</td>\n",
       "      <td>1.0</td>\n",
       "      <td>186</td>\n",
       "      <td>79</td>\n",
       "      <td>2</td>\n",
       "      <td>22.70</td>\n",
       "      <td>2024-01-01</td>\n",
       "      <td>1970-01-01 00:00:00.000002024</td>\n",
       "      <td>1970-01-01 00:00:00.000000001</td>\n",
       "      <td>1970-01-01 00:00:00.000000001</td>\n",
       "      <td>1970-01-01</td>\n",
       "    </tr>\n",
       "    <tr>\n",
       "      <th>1</th>\n",
       "      <td>2024-01-01 00:03:00</td>\n",
       "      <td>2024-01-01 00:09:36</td>\n",
       "      <td>1.0</td>\n",
       "      <td>1.80</td>\n",
       "      <td>1.0</td>\n",
       "      <td>140</td>\n",
       "      <td>236</td>\n",
       "      <td>1</td>\n",
       "      <td>18.75</td>\n",
       "      <td>2024-01-01</td>\n",
       "      <td>1970-01-01 00:00:00.000002024</td>\n",
       "      <td>1970-01-01 00:00:00.000000001</td>\n",
       "      <td>1970-01-01 00:00:00.000000001</td>\n",
       "      <td>1970-01-01</td>\n",
       "    </tr>\n",
       "    <tr>\n",
       "      <th>2</th>\n",
       "      <td>2024-01-01 00:17:06</td>\n",
       "      <td>2024-01-01 00:35:01</td>\n",
       "      <td>1.0</td>\n",
       "      <td>4.70</td>\n",
       "      <td>1.0</td>\n",
       "      <td>236</td>\n",
       "      <td>79</td>\n",
       "      <td>1</td>\n",
       "      <td>31.30</td>\n",
       "      <td>2024-01-01</td>\n",
       "      <td>1970-01-01 00:00:00.000002024</td>\n",
       "      <td>1970-01-01 00:00:00.000000001</td>\n",
       "      <td>1970-01-01 00:00:00.000000001</td>\n",
       "      <td>1970-01-01</td>\n",
       "    </tr>\n",
       "    <tr>\n",
       "      <th>3</th>\n",
       "      <td>2024-01-01 00:36:38</td>\n",
       "      <td>2024-01-01 00:44:56</td>\n",
       "      <td>1.0</td>\n",
       "      <td>1.40</td>\n",
       "      <td>1.0</td>\n",
       "      <td>79</td>\n",
       "      <td>211</td>\n",
       "      <td>1</td>\n",
       "      <td>17.00</td>\n",
       "      <td>2024-01-01</td>\n",
       "      <td>1970-01-01 00:00:00.000002024</td>\n",
       "      <td>1970-01-01 00:00:00.000000001</td>\n",
       "      <td>1970-01-01 00:00:00.000000001</td>\n",
       "      <td>1970-01-01</td>\n",
       "    </tr>\n",
       "    <tr>\n",
       "      <th>4</th>\n",
       "      <td>2024-01-01 00:46:51</td>\n",
       "      <td>2024-01-01 00:52:57</td>\n",
       "      <td>1.0</td>\n",
       "      <td>0.80</td>\n",
       "      <td>1.0</td>\n",
       "      <td>211</td>\n",
       "      <td>148</td>\n",
       "      <td>1</td>\n",
       "      <td>16.10</td>\n",
       "      <td>2024-01-01</td>\n",
       "      <td>1970-01-01 00:00:00.000002024</td>\n",
       "      <td>1970-01-01 00:00:00.000000001</td>\n",
       "      <td>1970-01-01 00:00:00.000000001</td>\n",
       "      <td>1970-01-01</td>\n",
       "    </tr>\n",
       "  </tbody>\n",
       "</table>\n",
       "</div>"
      ],
      "text/plain": [
       "  tpep_pickup_datetime tpep_dropoff_datetime  passenger_count  trip_distance  \\\n",
       "0  2024-01-01 00:57:55   2024-01-01 01:17:43              1.0           1.72   \n",
       "1  2024-01-01 00:03:00   2024-01-01 00:09:36              1.0           1.80   \n",
       "2  2024-01-01 00:17:06   2024-01-01 00:35:01              1.0           4.70   \n",
       "3  2024-01-01 00:36:38   2024-01-01 00:44:56              1.0           1.40   \n",
       "4  2024-01-01 00:46:51   2024-01-01 00:52:57              1.0           0.80   \n",
       "\n",
       "  RatecodeID PULocationID DOLocationID payment_type  total_amount  \\\n",
       "0        1.0          186           79            2         22.70   \n",
       "1        1.0          140          236            1         18.75   \n",
       "2        1.0          236           79            1         31.30   \n",
       "3        1.0           79          211            1         17.00   \n",
       "4        1.0          211          148            1         16.10   \n",
       "\n",
       "  transaction_date              transaction_year  \\\n",
       "0       2024-01-01 1970-01-01 00:00:00.000002024   \n",
       "1       2024-01-01 1970-01-01 00:00:00.000002024   \n",
       "2       2024-01-01 1970-01-01 00:00:00.000002024   \n",
       "3       2024-01-01 1970-01-01 00:00:00.000002024   \n",
       "4       2024-01-01 1970-01-01 00:00:00.000002024   \n",
       "\n",
       "              transaction_month               transaction_day transaction_hour  \n",
       "0 1970-01-01 00:00:00.000000001 1970-01-01 00:00:00.000000001       1970-01-01  \n",
       "1 1970-01-01 00:00:00.000000001 1970-01-01 00:00:00.000000001       1970-01-01  \n",
       "2 1970-01-01 00:00:00.000000001 1970-01-01 00:00:00.000000001       1970-01-01  \n",
       "3 1970-01-01 00:00:00.000000001 1970-01-01 00:00:00.000000001       1970-01-01  \n",
       "4 1970-01-01 00:00:00.000000001 1970-01-01 00:00:00.000000001       1970-01-01  "
      ]
     },
     "execution_count": 51,
     "metadata": {},
     "output_type": "execute_result"
    }
   ],
   "source": [
    "taxiDataPrepare.head()\n"
   ]
  },
  {
   "cell_type": "code",
   "execution_count": 52,
   "id": "49b969f0-73ef-47b8-9102-59c8b865cbf8",
   "metadata": {},
   "outputs": [],
   "source": [
    "taxiDataPrepare['transaction_date'] = pd.to_datetime(taxiDataPrepare['tpep_pickup_datetime'].dt.date)\n",
    "taxiDataPrepare['transaction_year'] = (taxiDataPrepare['tpep_pickup_datetime'].dt.year)\n",
    "taxiDataPrepare['transaction_month'] = (taxiDataPrepare['tpep_pickup_datetime'].dt.month)\n",
    "taxiDataPrepare['transaction_day'] = (taxiDataPrepare['tpep_pickup_datetime'].dt.day)\n",
    "taxiDataPrepare['transaction_hour'] = (taxiDataPrepare['tpep_pickup_datetime'].dt.hour)"
   ]
  },
  {
   "cell_type": "code",
   "execution_count": 53,
   "id": "52a83c48-7a6d-43c5-9438-9151dfe6cdac",
   "metadata": {},
   "outputs": [
    {
     "data": {
      "text/html": [
       "<div>\n",
       "<style scoped>\n",
       "    .dataframe tbody tr th:only-of-type {\n",
       "        vertical-align: middle;\n",
       "    }\n",
       "\n",
       "    .dataframe tbody tr th {\n",
       "        vertical-align: top;\n",
       "    }\n",
       "\n",
       "    .dataframe thead th {\n",
       "        text-align: right;\n",
       "    }\n",
       "</style>\n",
       "<table border=\"1\" class=\"dataframe\">\n",
       "  <thead>\n",
       "    <tr style=\"text-align: right;\">\n",
       "      <th></th>\n",
       "      <th>tpep_pickup_datetime</th>\n",
       "      <th>tpep_dropoff_datetime</th>\n",
       "      <th>passenger_count</th>\n",
       "      <th>trip_distance</th>\n",
       "      <th>RatecodeID</th>\n",
       "      <th>PULocationID</th>\n",
       "      <th>DOLocationID</th>\n",
       "      <th>payment_type</th>\n",
       "      <th>total_amount</th>\n",
       "      <th>transaction_date</th>\n",
       "      <th>transaction_year</th>\n",
       "      <th>transaction_month</th>\n",
       "      <th>transaction_day</th>\n",
       "      <th>transaction_hour</th>\n",
       "    </tr>\n",
       "  </thead>\n",
       "  <tbody>\n",
       "    <tr>\n",
       "      <th>0</th>\n",
       "      <td>2024-01-01 00:57:55</td>\n",
       "      <td>2024-01-01 01:17:43</td>\n",
       "      <td>1.0</td>\n",
       "      <td>1.72</td>\n",
       "      <td>1.0</td>\n",
       "      <td>186</td>\n",
       "      <td>79</td>\n",
       "      <td>2</td>\n",
       "      <td>22.70</td>\n",
       "      <td>2024-01-01</td>\n",
       "      <td>2024</td>\n",
       "      <td>1</td>\n",
       "      <td>1</td>\n",
       "      <td>0</td>\n",
       "    </tr>\n",
       "    <tr>\n",
       "      <th>1</th>\n",
       "      <td>2024-01-01 00:03:00</td>\n",
       "      <td>2024-01-01 00:09:36</td>\n",
       "      <td>1.0</td>\n",
       "      <td>1.80</td>\n",
       "      <td>1.0</td>\n",
       "      <td>140</td>\n",
       "      <td>236</td>\n",
       "      <td>1</td>\n",
       "      <td>18.75</td>\n",
       "      <td>2024-01-01</td>\n",
       "      <td>2024</td>\n",
       "      <td>1</td>\n",
       "      <td>1</td>\n",
       "      <td>0</td>\n",
       "    </tr>\n",
       "    <tr>\n",
       "      <th>2</th>\n",
       "      <td>2024-01-01 00:17:06</td>\n",
       "      <td>2024-01-01 00:35:01</td>\n",
       "      <td>1.0</td>\n",
       "      <td>4.70</td>\n",
       "      <td>1.0</td>\n",
       "      <td>236</td>\n",
       "      <td>79</td>\n",
       "      <td>1</td>\n",
       "      <td>31.30</td>\n",
       "      <td>2024-01-01</td>\n",
       "      <td>2024</td>\n",
       "      <td>1</td>\n",
       "      <td>1</td>\n",
       "      <td>0</td>\n",
       "    </tr>\n",
       "    <tr>\n",
       "      <th>3</th>\n",
       "      <td>2024-01-01 00:36:38</td>\n",
       "      <td>2024-01-01 00:44:56</td>\n",
       "      <td>1.0</td>\n",
       "      <td>1.40</td>\n",
       "      <td>1.0</td>\n",
       "      <td>79</td>\n",
       "      <td>211</td>\n",
       "      <td>1</td>\n",
       "      <td>17.00</td>\n",
       "      <td>2024-01-01</td>\n",
       "      <td>2024</td>\n",
       "      <td>1</td>\n",
       "      <td>1</td>\n",
       "      <td>0</td>\n",
       "    </tr>\n",
       "    <tr>\n",
       "      <th>4</th>\n",
       "      <td>2024-01-01 00:46:51</td>\n",
       "      <td>2024-01-01 00:52:57</td>\n",
       "      <td>1.0</td>\n",
       "      <td>0.80</td>\n",
       "      <td>1.0</td>\n",
       "      <td>211</td>\n",
       "      <td>148</td>\n",
       "      <td>1</td>\n",
       "      <td>16.10</td>\n",
       "      <td>2024-01-01</td>\n",
       "      <td>2024</td>\n",
       "      <td>1</td>\n",
       "      <td>1</td>\n",
       "      <td>0</td>\n",
       "    </tr>\n",
       "  </tbody>\n",
       "</table>\n",
       "</div>"
      ],
      "text/plain": [
       "  tpep_pickup_datetime tpep_dropoff_datetime  passenger_count  trip_distance  \\\n",
       "0  2024-01-01 00:57:55   2024-01-01 01:17:43              1.0           1.72   \n",
       "1  2024-01-01 00:03:00   2024-01-01 00:09:36              1.0           1.80   \n",
       "2  2024-01-01 00:17:06   2024-01-01 00:35:01              1.0           4.70   \n",
       "3  2024-01-01 00:36:38   2024-01-01 00:44:56              1.0           1.40   \n",
       "4  2024-01-01 00:46:51   2024-01-01 00:52:57              1.0           0.80   \n",
       "\n",
       "  RatecodeID PULocationID DOLocationID payment_type  total_amount  \\\n",
       "0        1.0          186           79            2         22.70   \n",
       "1        1.0          140          236            1         18.75   \n",
       "2        1.0          236           79            1         31.30   \n",
       "3        1.0           79          211            1         17.00   \n",
       "4        1.0          211          148            1         16.10   \n",
       "\n",
       "  transaction_date  transaction_year  transaction_month  transaction_day  \\\n",
       "0       2024-01-01              2024                  1                1   \n",
       "1       2024-01-01              2024                  1                1   \n",
       "2       2024-01-01              2024                  1                1   \n",
       "3       2024-01-01              2024                  1                1   \n",
       "4       2024-01-01              2024                  1                1   \n",
       "\n",
       "   transaction_hour  \n",
       "0                 0  \n",
       "1                 0  \n",
       "2                 0  \n",
       "3                 0  \n",
       "4                 0  "
      ]
     },
     "execution_count": 53,
     "metadata": {},
     "output_type": "execute_result"
    }
   ],
   "source": [
    "taxiDataPrepare.head()"
   ]
  },
  {
   "cell_type": "code",
   "execution_count": 54,
   "id": "14ecb717-fb5a-4dfb-b952-1f0d0e0b51cf",
   "metadata": {},
   "outputs": [
    {
     "data": {
      "text/plain": [
       "array([[<Axes: title={'center': 'tpep_pickup_datetime'}>,\n",
       "        <Axes: title={'center': 'tpep_dropoff_datetime'}>,\n",
       "        <Axes: title={'center': 'passenger_count'}>],\n",
       "       [<Axes: title={'center': 'trip_distance'}>,\n",
       "        <Axes: title={'center': 'total_amount'}>,\n",
       "        <Axes: title={'center': 'transaction_date'}>],\n",
       "       [<Axes: title={'center': 'transaction_year'}>,\n",
       "        <Axes: title={'center': 'transaction_month'}>,\n",
       "        <Axes: title={'center': 'transaction_day'}>],\n",
       "       [<Axes: title={'center': 'transaction_hour'}>, <Axes: >, <Axes: >]],\n",
       "      dtype=object)"
      ]
     },
     "execution_count": 54,
     "metadata": {},
     "output_type": "execute_result"
    },
    {
     "data": {
      "image/png": "[encoded data removed]",
      "text/plain": [
       "<Figure size 2000x1000 with 12 Axes>"
      ]
     },
     "metadata": {},
     "output_type": "display_data"
    }
   ],
   "source": [
    "taxiDataPrepare.hist(figsize = (20,10) , bins = 60)"
   ]
  },
  {
   "cell_type": "code",
   "execution_count": 55,
   "id": "c0d91fac-055c-4b18-8f29-0e3ae67f5e30",
   "metadata": {},
   "outputs": [],
   "source": [
    "taxiDataPrepare = taxiDataPrepare[taxiDataPrepare['transaction_year']==2024]\n",
    "taxiDataPrepare = taxiDataPrepare[taxiDataPrepare['transaction_month']==1]"
   ]
  },
  {
   "cell_type": "code",
   "execution_count": 56,
   "id": "fa60d47d-f593-486e-a748-a986f0631ad3",
   "metadata": {},
   "outputs": [],
   "source": [
    "category_col = ['PULocationID','transaction_date','transaction_month','transaction_day','transaction_hour']\n",
    "num_col = ['trip_distance','total_amount']\n",
    "all_req_col = category_col + num_col"
   ]
  },
  {
   "cell_type": "code",
   "execution_count": 57,
   "id": "0f3bd579-04b5-40c8-9944-3ee703671d63",
   "metadata": {},
   "outputs": [],
   "source": [
    "mainTaxiDF = taxiDataPrepare[all_req_col]"
   ]
  },
  {
   "cell_type": "code",
   "execution_count": 59,
   "id": "ad6a5a7f-67cf-4d9f-b2a3-2e167c2ee4cb",
   "metadata": {},
   "outputs": [
    {
     "data": {
      "text/plain": [
       "20500032"
      ]
     },
     "execution_count": 59,
     "metadata": {},
     "output_type": "execute_result"
    }
   ],
   "source": [
    "mainTaxiDF.size"
   ]
  },
  {
   "cell_type": "code",
   "execution_count": 60,
   "id": "db3d0003-c8f9-4b95-a4f2-aa54d3cfae09",
   "metadata": {},
   "outputs": [
    {
     "data": {
      "text/plain": [
       "(2928576, 7)"
      ]
     },
     "execution_count": 60,
     "metadata": {},
     "output_type": "execute_result"
    }
   ],
   "source": [
    "mainTaxiDF.shape"
   ]
  },
  {
   "cell_type": "code",
   "execution_count": 61,
   "id": "d0a8e63b-1520-4a04-88d4-8db31f95e706",
   "metadata": {},
   "outputs": [
    {
     "data": {
      "text/html": [
       "<div>\n",
       "<style scoped>\n",
       "    .dataframe tbody tr th:only-of-type {\n",
       "        vertical-align: middle;\n",
       "    }\n",
       "\n",
       "    .dataframe tbody tr th {\n",
       "        vertical-align: top;\n",
       "    }\n",
       "\n",
       "    .dataframe thead th {\n",
       "        text-align: right;\n",
       "    }\n",
       "</style>\n",
       "<table border=\"1\" class=\"dataframe\">\n",
       "  <thead>\n",
       "    <tr style=\"text-align: right;\">\n",
       "      <th></th>\n",
       "      <th>PULocationID</th>\n",
       "      <th>transaction_date</th>\n",
       "      <th>transaction_month</th>\n",
       "      <th>transaction_day</th>\n",
       "      <th>transaction_hour</th>\n",
       "      <th>trip_distance</th>\n",
       "      <th>total_amount</th>\n",
       "    </tr>\n",
       "  </thead>\n",
       "  <tbody>\n",
       "    <tr>\n",
       "      <th>0</th>\n",
       "      <td>186</td>\n",
       "      <td>2024-01-01</td>\n",
       "      <td>1</td>\n",
       "      <td>1</td>\n",
       "      <td>0</td>\n",
       "      <td>1.72</td>\n",
       "      <td>22.70</td>\n",
       "    </tr>\n",
       "    <tr>\n",
       "      <th>1</th>\n",
       "      <td>140</td>\n",
       "      <td>2024-01-01</td>\n",
       "      <td>1</td>\n",
       "      <td>1</td>\n",
       "      <td>0</td>\n",
       "      <td>1.80</td>\n",
       "      <td>18.75</td>\n",
       "    </tr>\n",
       "    <tr>\n",
       "      <th>2</th>\n",
       "      <td>236</td>\n",
       "      <td>2024-01-01</td>\n",
       "      <td>1</td>\n",
       "      <td>1</td>\n",
       "      <td>0</td>\n",
       "      <td>4.70</td>\n",
       "      <td>31.30</td>\n",
       "    </tr>\n",
       "    <tr>\n",
       "      <th>3</th>\n",
       "      <td>79</td>\n",
       "      <td>2024-01-01</td>\n",
       "      <td>1</td>\n",
       "      <td>1</td>\n",
       "      <td>0</td>\n",
       "      <td>1.40</td>\n",
       "      <td>17.00</td>\n",
       "    </tr>\n",
       "    <tr>\n",
       "      <th>4</th>\n",
       "      <td>211</td>\n",
       "      <td>2024-01-01</td>\n",
       "      <td>1</td>\n",
       "      <td>1</td>\n",
       "      <td>0</td>\n",
       "      <td>0.80</td>\n",
       "      <td>16.10</td>\n",
       "    </tr>\n",
       "  </tbody>\n",
       "</table>\n",
       "</div>"
      ],
      "text/plain": [
       "  PULocationID transaction_date  transaction_month  transaction_day  \\\n",
       "0          186       2024-01-01                  1                1   \n",
       "1          140       2024-01-01                  1                1   \n",
       "2          236       2024-01-01                  1                1   \n",
       "3           79       2024-01-01                  1                1   \n",
       "4          211       2024-01-01                  1                1   \n",
       "\n",
       "   transaction_hour  trip_distance  total_amount  \n",
       "0                 0           1.72         22.70  \n",
       "1                 0           1.80         18.75  \n",
       "2                 0           4.70         31.30  \n",
       "3                 0           1.40         17.00  \n",
       "4                 0           0.80         16.10  "
      ]
     },
     "execution_count": 61,
     "metadata": {},
     "output_type": "execute_result"
    }
   ],
   "source": [
    "mainTaxiDF.head()"
   ]
  },
  {
   "cell_type": "code",
   "execution_count": 64,
   "id": "04aa4de9-7f0e-47db-a5ab-c07769c0b1b2",
   "metadata": {},
   "outputs": [],
   "source": [
    "taxi_by_region = mainTaxiDF.groupby(category_col).mean().reset_index()\n",
    "taxi_by_region['count_of_transactions'] = mainTaxiDF.groupby(category_col).count().reset_index()['total_amount']"
   ]
  },
  {
   "cell_type": "code",
   "execution_count": 65,
   "id": "8d6dac4e-fbbe-4b5f-920f-7d522c368aa5",
   "metadata": {},
   "outputs": [
    {
     "data": {
      "text/plain": [
       "(77494, 8)"
      ]
     },
     "execution_count": 65,
     "metadata": {},
     "output_type": "execute_result"
    }
   ],
   "source": [
    "taxi_by_region.shape"
   ]
  },
  {
   "cell_type": "code",
   "execution_count": 66,
   "id": "7e6cceb5-d583-4761-b829-09c35f93f86f",
   "metadata": {},
   "outputs": [
    {
     "data": {
      "text/html": [
       "<div>\n",
       "<style scoped>\n",
       "    .dataframe tbody tr th:only-of-type {\n",
       "        vertical-align: middle;\n",
       "    }\n",
       "\n",
       "    .dataframe tbody tr th {\n",
       "        vertical-align: top;\n",
       "    }\n",
       "\n",
       "    .dataframe thead th {\n",
       "        text-align: right;\n",
       "    }\n",
       "</style>\n",
       "<table border=\"1\" class=\"dataframe\">\n",
       "  <thead>\n",
       "    <tr style=\"text-align: right;\">\n",
       "      <th></th>\n",
       "      <th>PULocationID</th>\n",
       "      <th>transaction_date</th>\n",
       "      <th>transaction_month</th>\n",
       "      <th>transaction_day</th>\n",
       "      <th>transaction_hour</th>\n",
       "      <th>trip_distance</th>\n",
       "      <th>total_amount</th>\n",
       "      <th>count_of_transactions</th>\n",
       "    </tr>\n",
       "  </thead>\n",
       "  <tbody>\n",
       "    <tr>\n",
       "      <th>0</th>\n",
       "      <td>1</td>\n",
       "      <td>2024-01-01</td>\n",
       "      <td>1</td>\n",
       "      <td>1</td>\n",
       "      <td>5</td>\n",
       "      <td>0.000000</td>\n",
       "      <td>109.200000</td>\n",
       "      <td>1</td>\n",
       "    </tr>\n",
       "    <tr>\n",
       "      <th>1</th>\n",
       "      <td>1</td>\n",
       "      <td>2024-01-01</td>\n",
       "      <td>1</td>\n",
       "      <td>1</td>\n",
       "      <td>6</td>\n",
       "      <td>0.020000</td>\n",
       "      <td>76.000000</td>\n",
       "      <td>3</td>\n",
       "    </tr>\n",
       "    <tr>\n",
       "      <th>2</th>\n",
       "      <td>1</td>\n",
       "      <td>2024-01-01</td>\n",
       "      <td>1</td>\n",
       "      <td>1</td>\n",
       "      <td>13</td>\n",
       "      <td>0.000000</td>\n",
       "      <td>108.983333</td>\n",
       "      <td>3</td>\n",
       "    </tr>\n",
       "    <tr>\n",
       "      <th>3</th>\n",
       "      <td>1</td>\n",
       "      <td>2024-01-01</td>\n",
       "      <td>1</td>\n",
       "      <td>1</td>\n",
       "      <td>14</td>\n",
       "      <td>0.001667</td>\n",
       "      <td>85.680000</td>\n",
       "      <td>6</td>\n",
       "    </tr>\n",
       "    <tr>\n",
       "      <th>4</th>\n",
       "      <td>1</td>\n",
       "      <td>2024-01-01</td>\n",
       "      <td>1</td>\n",
       "      <td>1</td>\n",
       "      <td>15</td>\n",
       "      <td>0.000000</td>\n",
       "      <td>145.620000</td>\n",
       "      <td>2</td>\n",
       "    </tr>\n",
       "  </tbody>\n",
       "</table>\n",
       "</div>"
      ],
      "text/plain": [
       "  PULocationID transaction_date  transaction_month  transaction_day  \\\n",
       "0            1       2024-01-01                  1                1   \n",
       "1            1       2024-01-01                  1                1   \n",
       "2            1       2024-01-01                  1                1   \n",
       "3            1       2024-01-01                  1                1   \n",
       "4            1       2024-01-01                  1                1   \n",
       "\n",
       "   transaction_hour  trip_distance  total_amount  count_of_transactions  \n",
       "0                 5       0.000000    109.200000                      1  \n",
       "1                 6       0.020000     76.000000                      3  \n",
       "2                13       0.000000    108.983333                      3  \n",
       "3                14       0.001667     85.680000                      6  \n",
       "4                15       0.000000    145.620000                      2  "
      ]
     },
     "execution_count": 66,
     "metadata": {},
     "output_type": "execute_result"
    }
   ],
   "source": [
    "taxi_by_region.head()"
   ]
  },
  {
   "cell_type": "code",
   "execution_count": 67,
   "id": "52c3e452-2c90-4838-b3d3-3beee795494b",
   "metadata": {},
   "outputs": [
    {
     "data": {
      "text/html": [
       "<div>\n",
       "<style scoped>\n",
       "    .dataframe tbody tr th:only-of-type {\n",
       "        vertical-align: middle;\n",
       "    }\n",
       "\n",
       "    .dataframe tbody tr th {\n",
       "        vertical-align: top;\n",
       "    }\n",
       "\n",
       "    .dataframe thead th {\n",
       "        text-align: right;\n",
       "    }\n",
       "</style>\n",
       "<table border=\"1\" class=\"dataframe\">\n",
       "  <thead>\n",
       "    <tr style=\"text-align: right;\">\n",
       "      <th></th>\n",
       "      <th>PULocationID</th>\n",
       "      <th>transaction_date</th>\n",
       "      <th>transaction_month</th>\n",
       "      <th>transaction_day</th>\n",
       "      <th>transaction_hour</th>\n",
       "      <th>trip_distance</th>\n",
       "      <th>total_amount</th>\n",
       "      <th>count_of_transactions</th>\n",
       "    </tr>\n",
       "  </thead>\n",
       "  <tbody>\n",
       "    <tr>\n",
       "      <th>0</th>\n",
       "      <td>1</td>\n",
       "      <td>2024-01-01</td>\n",
       "      <td>1</td>\n",
       "      <td>1</td>\n",
       "      <td>5</td>\n",
       "      <td>0.000000</td>\n",
       "      <td>109.200000</td>\n",
       "      <td>1</td>\n",
       "    </tr>\n",
       "    <tr>\n",
       "      <th>1</th>\n",
       "      <td>1</td>\n",
       "      <td>2024-01-01</td>\n",
       "      <td>1</td>\n",
       "      <td>1</td>\n",
       "      <td>6</td>\n",
       "      <td>0.020000</td>\n",
       "      <td>76.000000</td>\n",
       "      <td>3</td>\n",
       "    </tr>\n",
       "    <tr>\n",
       "      <th>2</th>\n",
       "      <td>1</td>\n",
       "      <td>2024-01-01</td>\n",
       "      <td>1</td>\n",
       "      <td>1</td>\n",
       "      <td>13</td>\n",
       "      <td>0.000000</td>\n",
       "      <td>108.983333</td>\n",
       "      <td>3</td>\n",
       "    </tr>\n",
       "    <tr>\n",
       "      <th>3</th>\n",
       "      <td>1</td>\n",
       "      <td>2024-01-01</td>\n",
       "      <td>1</td>\n",
       "      <td>1</td>\n",
       "      <td>14</td>\n",
       "      <td>0.001667</td>\n",
       "      <td>85.680000</td>\n",
       "      <td>6</td>\n",
       "    </tr>\n",
       "    <tr>\n",
       "      <th>4</th>\n",
       "      <td>1</td>\n",
       "      <td>2024-01-01</td>\n",
       "      <td>1</td>\n",
       "      <td>1</td>\n",
       "      <td>15</td>\n",
       "      <td>0.000000</td>\n",
       "      <td>145.620000</td>\n",
       "      <td>2</td>\n",
       "    </tr>\n",
       "    <tr>\n",
       "      <th>5</th>\n",
       "      <td>1</td>\n",
       "      <td>2024-01-01</td>\n",
       "      <td>1</td>\n",
       "      <td>1</td>\n",
       "      <td>16</td>\n",
       "      <td>17.000000</td>\n",
       "      <td>142.800000</td>\n",
       "      <td>1</td>\n",
       "    </tr>\n",
       "    <tr>\n",
       "      <th>6</th>\n",
       "      <td>1</td>\n",
       "      <td>2024-01-01</td>\n",
       "      <td>1</td>\n",
       "      <td>1</td>\n",
       "      <td>17</td>\n",
       "      <td>0.015000</td>\n",
       "      <td>100.812500</td>\n",
       "      <td>4</td>\n",
       "    </tr>\n",
       "    <tr>\n",
       "      <th>7</th>\n",
       "      <td>1</td>\n",
       "      <td>2024-01-02</td>\n",
       "      <td>1</td>\n",
       "      <td>2</td>\n",
       "      <td>5</td>\n",
       "      <td>0.000000</td>\n",
       "      <td>124.700000</td>\n",
       "      <td>1</td>\n",
       "    </tr>\n",
       "    <tr>\n",
       "      <th>8</th>\n",
       "      <td>1</td>\n",
       "      <td>2024-01-02</td>\n",
       "      <td>1</td>\n",
       "      <td>2</td>\n",
       "      <td>6</td>\n",
       "      <td>0.000000</td>\n",
       "      <td>145.200000</td>\n",
       "      <td>1</td>\n",
       "    </tr>\n",
       "    <tr>\n",
       "      <th>9</th>\n",
       "      <td>1</td>\n",
       "      <td>2024-01-02</td>\n",
       "      <td>1</td>\n",
       "      <td>2</td>\n",
       "      <td>7</td>\n",
       "      <td>0.000000</td>\n",
       "      <td>84.970000</td>\n",
       "      <td>2</td>\n",
       "    </tr>\n",
       "  </tbody>\n",
       "</table>\n",
       "</div>"
      ],
      "text/plain": [
       "  PULocationID transaction_date  transaction_month  transaction_day  \\\n",
       "0            1       2024-01-01                  1                1   \n",
       "1            1       2024-01-01                  1                1   \n",
       "2            1       2024-01-01                  1                1   \n",
       "3            1       2024-01-01                  1                1   \n",
       "4            1       2024-01-01                  1                1   \n",
       "5            1       2024-01-01                  1                1   \n",
       "6            1       2024-01-01                  1                1   \n",
       "7            1       2024-01-02                  1                2   \n",
       "8            1       2024-01-02                  1                2   \n",
       "9            1       2024-01-02                  1                2   \n",
       "\n",
       "   transaction_hour  trip_distance  total_amount  count_of_transactions  \n",
       "0                 5       0.000000    109.200000                      1  \n",
       "1                 6       0.020000     76.000000                      3  \n",
       "2                13       0.000000    108.983333                      3  \n",
       "3                14       0.001667     85.680000                      6  \n",
       "4                15       0.000000    145.620000                      2  \n",
       "5                16      17.000000    142.800000                      1  \n",
       "6                17       0.015000    100.812500                      4  \n",
       "7                 5       0.000000    124.700000                      1  \n",
       "8                 6       0.000000    145.200000                      1  \n",
       "9                 7       0.000000     84.970000                      2  "
      ]
     },
     "execution_count": 67,
     "metadata": {},
     "output_type": "execute_result"
    }
   ],
   "source": [
    "taxi_by_region.head(10)"
   ]
  },
  {
   "cell_type": "code",
   "execution_count": 68,
   "id": "3e6ad6e3-8d03-475b-bc82-7b3509ec334e",
   "metadata": {},
   "outputs": [
    {
     "data": {
      "text/plain": [
       "<Axes: >"
      ]
     },
     "execution_count": 68,
     "metadata": {},
     "output_type": "execute_result"
    },
    {
     "data": {
      "image/png": "[encoded data removed]",
      "text/plain": [
       "<Figure size 1000x500 with 1 Axes>"
      ]
     },
     "metadata": {},
     "output_type": "display_data"
    }
   ],
   "source": [
    "taxi_by_region['trip_distance'].hist(bins=100,figsize=(10,5))"
   ]
  },
  {
   "cell_type": "code",
   "execution_count": 69,
   "id": "667f53e2-8c33-4dd0-a059-9ceb802e76b6",
   "metadata": {},
   "outputs": [
    {
     "data": {
      "text/plain": [
       "<Axes: >"
      ]
     },
     "execution_count": 69,
     "metadata": {},
     "output_type": "execute_result"
    },
    {
     "data": {
      "image/png": "[encoded data removed]",
      "text/plain": [
       "<Figure size 1000x500 with 1 Axes>"
      ]
     },
     "metadata": {},
     "output_type": "display_data"
    }
   ],
   "source": [
    "taxi_by_region['trip_distance'].hist(bins=50,figsize=(10,5))"
   ]
  },
  {
   "cell_type": "code",
   "execution_count": 70,
   "id": "f55c0867-a367-4e5a-9226-a9141c7225cd",
   "metadata": {},
   "outputs": [
    {
     "data": {
      "text/plain": [
       "<Axes: >"
      ]
     },
     "execution_count": 70,
     "metadata": {},
     "output_type": "execute_result"
    },
    {
     "data": {
      "image/png": "[encoded data removed]",
      "text/plain": [
       "<Figure size 1000x500 with 1 Axes>"
      ]
     },
     "metadata": {},
     "output_type": "display_data"
    }
   ],
   "source": [
    "taxi_by_region['total_amount'].hist(bins=50,figsize=(10,5))"
   ]
  },
  {
   "cell_type": "markdown",
   "id": "d06d7628-c3f3-4e9f-a418-4c3d13f068c4",
   "metadata": {},
   "source": [
    "#this is all about selecting a benchmark"
   ]
  },
  {
   "cell_type": "code",
   "execution_count": 71,
   "id": "1c96765c-db28-4a79-96a4-6160320331c3",
   "metadata": {},
   "outputs": [],
   "source": [
    "data_for_model = taxi_by_region.copy()"
   ]
  },
  {
   "cell_type": "code",
   "execution_count": 72,
   "id": "841d3de9-a586-4519-abaf-c7fac4894e2c",
   "metadata": {},
   "outputs": [
    {
     "data": {
      "text/plain": [
       "PULocationID                     object\n",
       "transaction_date         datetime64[ns]\n",
       "transaction_month                 int32\n",
       "transaction_day                   int32\n",
       "transaction_hour                  int32\n",
       "trip_distance                   float64\n",
       "total_amount                    float64\n",
       "count_of_transactions             int64\n",
       "dtype: object"
      ]
     },
     "execution_count": 72,
     "metadata": {},
     "output_type": "execute_result"
    }
   ],
   "source": [
    "data_for_model.dtypes"
   ]
  },
  {
   "cell_type": "code",
   "execution_count": 77,
   "id": "7d8dbd9e-6844-44c9-a555-97ee8330e33c",
   "metadata": {},
   "outputs": [],
   "source": [
    "categorical_object = ['PULocationID','transaction_month','transaction_day','transaction_hour']\n",
    "input_feature = categorical_object + ['trip_distance']\n",
    "target_benchmark = 'total_amount'"
   ]
  },
  {
   "cell_type": "code",
   "execution_count": 78,
   "id": "7bea78cd-e2d6-4d7e-96fe-ce79d6fad75d",
   "metadata": {},
   "outputs": [],
   "source": [
    "from sklearn.model_selection import train_test_split\n",
    "x_bench = data_for_model[input_feature]\n",
    "y_bench = data_for_model[target_benchmark]\n",
    "x_bench = pd.get_dummies(x_bench)\n",
    "X_train_b, X_test_b, y_train_b, y_test_b = train_test_split(x_bench, y_bench, test_size=0.33, random_state=42)"
   ]
  },
  {
   "cell_type": "code",
   "execution_count": 80,
   "id": "6c16e93c-4137-46a9-9447-fcb35abcfa66",
   "metadata": {},
   "outputs": [
    {
     "data": {
      "text/html": [
       "<style>#sk-container-id-1 {color: black;background-color: white;}#sk-container-id-1 pre{padding: 0;}#sk-container-id-1 div.sk-toggleable {background-color: white;}#sk-container-id-1 label.sk-toggleable__label {cursor: pointer;display: block;width: 100%;margin-bottom: 0;padding: 0.3em;box-sizing: border-box;text-align: center;}#sk-container-id-1 label.sk-toggleable__label-arrow:before {content: \"▸\";float: left;margin-right: 0.25em;color: #696969;}#sk-container-id-1 label.sk-toggleable__label-arrow:hover:before {color: black;}#sk-container-id-1 div.sk-estimator:hover label.sk-toggleable__label-arrow:before {color: black;}#sk-container-id-1 div.sk-toggleable__content {max-height: 0;max-width: 0;overflow: hidden;text-align: left;background-color: #f0f8ff;}#sk-container-id-1 div.sk-toggleable__content pre {margin: 0.2em;color: black;border-radius: 0.25em;background-color: #f0f8ff;}#sk-container-id-1 input.sk-toggleable__control:checked~div.sk-toggleable__content {max-height: 200px;max-width: 100%;overflow: auto;}#sk-container-id-1 input.sk-toggleable__control:checked~label.sk-toggleable__label-arrow:before {content: \"▾\";}#sk-container-id-1 div.sk-estimator input.sk-toggleable__control:checked~label.sk-toggleable__label {background-color: #d4ebff;}#sk-container-id-1 div.sk-label input.sk-toggleable__control:checked~label.sk-toggleable__label {background-color: #d4ebff;}#sk-container-id-1 input.sk-hidden--visually {border: 0;clip: rect(1px 1px 1px 1px);clip: rect(1px, 1px, 1px, 1px);height: 1px;margin: -1px;overflow: hidden;padding: 0;position: absolute;width: 1px;}#sk-container-id-1 div.sk-estimator {font-family: monospace;background-color: #f0f8ff;border: 1px dotted black;border-radius: 0.25em;box-sizing: border-box;margin-bottom: 0.5em;}#sk-container-id-1 div.sk-estimator:hover {background-color: #d4ebff;}#sk-container-id-1 div.sk-parallel-item::after {content: \"\";width: 100%;border-bottom: 1px solid gray;flex-grow: 1;}#sk-container-id-1 div.sk-label:hover label.sk-toggleable__label {background-color: #d4ebff;}#sk-container-id-1 div.sk-serial::before {content: \"\";position: absolute;border-left: 1px solid gray;box-sizing: border-box;top: 0;bottom: 0;left: 50%;z-index: 0;}#sk-container-id-1 div.sk-serial {display: flex;flex-direction: column;align-items: center;background-color: white;padding-right: 0.2em;padding-left: 0.2em;position: relative;}#sk-container-id-1 div.sk-item {position: relative;z-index: 1;}#sk-container-id-1 div.sk-parallel {display: flex;align-items: stretch;justify-content: center;background-color: white;position: relative;}#sk-container-id-1 div.sk-item::before, #sk-container-id-1 div.sk-parallel-item::before {content: \"\";position: absolute;border-left: 1px solid gray;box-sizing: border-box;top: 0;bottom: 0;left: 50%;z-index: -1;}#sk-container-id-1 div.sk-parallel-item {display: flex;flex-direction: column;z-index: 1;position: relative;background-color: white;}#sk-container-id-1 div.sk-parallel-item:first-child::after {align-self: flex-end;width: 50%;}#sk-container-id-1 div.sk-parallel-item:last-child::after {align-self: flex-start;width: 50%;}#sk-container-id-1 div.sk-parallel-item:only-child::after {width: 0;}#sk-container-id-1 div.sk-dashed-wrapped {border: 1px dashed gray;margin: 0 0.4em 0.5em 0.4em;box-sizing: border-box;padding-bottom: 0.4em;background-color: white;}#sk-container-id-1 div.sk-label label {font-family: monospace;font-weight: bold;display: inline-block;line-height: 1.2em;}#sk-container-id-1 div.sk-label-container {text-align: center;}#sk-container-id-1 div.sk-container {/* jupyter's `normalize.less` sets `[hidden] { display: none; }` but bootstrap.min.css set `[hidden] { display: none !important; }` so we also need the `!important` here to be able to override the default hidden behavior on the sphinx rendered scikit-learn.org. See: https://github.com/scikit-learn/scikit-learn/issues/21755 */display: inline-block !important;position: relative;}#sk-container-id-1 div.sk-text-repr-fallback {display: none;}</style><div id=\"sk-container-id-1\" class=\"sk-top-container\"><div class=\"sk-text-repr-fallback\"><pre>DecisionTreeRegressor(max_depth=10)</pre><b>In a Jupyter environment, please rerun this cell to show the HTML representation or trust the notebook. <br />On GitHub, the HTML representation is unable to render, please try loading this page with nbviewer.org.</b></div><div class=\"sk-container\" hidden><div class=\"sk-item\"><div class=\"sk-estimator sk-toggleable\"><input class=\"sk-toggleable__control sk-hidden--visually\" id=\"sk-estimator-id-1\" type=\"checkbox\" checked><label for=\"sk-estimator-id-1\" class=\"sk-toggleable__label sk-toggleable__label-arrow\">DecisionTreeRegressor</label><div class=\"sk-toggleable__content\"><pre>DecisionTreeRegressor(max_depth=10)</pre></div></div></div></div></div>"
      ],
      "text/plain": [
       "DecisionTreeRegressor(max_depth=10)"
      ]
     },
     "execution_count": 80,
     "metadata": {},
     "output_type": "execute_result"
    }
   ],
   "source": [
    "from sklearn.tree import DecisionTreeRegressor\n",
    "tree = DecisionTreeRegressor(max_depth = 10)\n",
    "tree.fit(X_train_b,y_train_b)"
   ]
  },
  {
   "cell_type": "code",
   "execution_count": null,
   "id": "9e20ac7f-3388-47d6-8a5d-271654d2b25e",
   "metadata": {},
   "outputs": [],
   "source": []
  }
 ],
 "metadata": {
  "kernelspec": {
   "display_name": "Python 3 (ipykernel)",
   "language": "python",
   "name": "python3"
  },
  "language_info": {
   "codemirror_mode": {
    "name": "ipython",
    "version": 3
   },
   "file_extension": ".py",
   "mimetype": "text/x-python",
   "name": "python",
   "nbconvert_exporter": "python",
   "pygments_lexer": "ipython3",
   "version": "3.11.7"
  }
 },
 "nbformat": 4,
 "nbformat_minor": 5
}
